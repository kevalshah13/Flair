{
 "cells": [
  {
   "cell_type": "code",
   "execution_count": 1,
   "id": "a2200348",
   "metadata": {},
   "outputs": [],
   "source": [
    "import pandas as pd\n",
    "import numpy as np\n",
    "import pyodbc"
   ]
  },
  {
   "cell_type": "code",
   "execution_count": 6,
   "id": "3aeaee16",
   "metadata": {},
   "outputs": [
    {
     "data": {
      "text/plain": [
       "Index(['Seller Gstin', 'Invoice Number', 'Invoice Date', 'Transaction Type',\n",
       "       'Order Id', 'Quantity', 'Item Description', 'Hsn/sac', 'Ship From City',\n",
       "       'Ship From State', 'Ship To City', 'Ship To State',\n",
       "       'Ship To Postal Code', 'Invoice Amount', 'Cgst Rate', 'Sgst Rate',\n",
       "       'Utgst Rate', 'Igst Rate', 'Principal Amount Basis', 'Cgst Tax',\n",
       "       'Sgst Tax', 'Igst Tax', 'Utgst Tax', 'Warehouse Id', 'Bill To City',\n",
       "       'Bill To State', 'Bill To Postalcode', 'Customer Bill To Gstid',\n",
       "       'Customer Ship To Gstid', 'Buyer Name'],\n",
       "      dtype='object')"
      ]
     },
     "execution_count": 6,
     "metadata": {},
     "output_type": "execute_result"
    }
   ],
   "source": [
    "columns =['Seller Gstin', 'Invoice Number', 'Invoice Date', 'Transaction Type',\n",
    "          'Order Id','Quantity', 'Item Description','Hsn/sac','Ship From City', 'Ship From State','Ship To City', \n",
    "          'Ship To State','Ship To Postal Code', 'Invoice Amount','Cgst Rate', 'Sgst Rate','Utgst Rate', 'Igst Rate',\n",
    "          'Principal Amount Basis', 'Cgst Tax', 'Sgst Tax', 'Igst Tax', 'Utgst Tax','Warehouse Id','Bill To City', \n",
    "          'Bill To State','Bill To Postalcode','Customer Bill To Gstid','Customer Ship To Gstid', 'Buyer Name']\n",
    "b2b=pd.read_excel(r'C:\\Users\\kshah80\\Desktop\\FlairSql Task\\b2b sales format.xlsx',usecols=columns)\n",
    "b2b.columns\n"
   ]
  },
  {
   "cell_type": "code",
   "execution_count": 10,
   "id": "f7732203",
   "metadata": {},
   "outputs": [
    {
     "data": {
      "text/plain": [
       "Index(['Seller Gstin', 'Invoice Number', 'Invoice Date', 'Transaction Type',\n",
       "       'Order Id', 'Order Date', 'Quantity', 'Item Description', 'Hsn/sac',\n",
       "       'Ship From City', 'Ship From State', 'Ship To City', 'Ship To State',\n",
       "       'Ship To Postal Code', 'Invoice Amount', 'Cgst Rate', 'Sgst Rate',\n",
       "       'Utgst Rate', 'Igst Rate', 'Principal Amount Basis', 'Cgst Tax',\n",
       "       'Sgst Tax', 'Igst Tax', 'Utgst Tax', 'Warehouse Id', 'Credit Note No',\n",
       "       'Credit Note Date'],\n",
       "      dtype='object')"
      ]
     },
     "execution_count": 10,
     "metadata": {},
     "output_type": "execute_result"
    }
   ],
   "source": [
    "columns =['Seller Gstin', 'Invoice Number', 'Invoice Date', 'Transaction Type',\n",
    "          'Order Id','Order Date', 'Quantity', 'Item Description','Hsn/sac','Ship From City', 'Ship From State',\n",
    "          'Ship To City', 'Ship To State','Ship To Postal Code', 'Invoice Amount','Cgst Rate', 'Sgst Rate','Utgst Rate', \n",
    "          'Igst Rate','Principal Amount Basis', 'Cgst Tax', 'Sgst Tax', 'Igst Tax', 'Utgst Tax','Warehouse Id',\n",
    "          'Credit Note No', 'Credit Note Date']\n",
    "b2c=pd.read_excel(r'C:\\Users\\kshah80\\Desktop\\FlairSql Task\\b2c sales format.xlsx',usecols=columns)\n",
    "b2c.columns"
   ]
  },
  {
   "cell_type": "code",
   "execution_count": null,
   "id": "6009717d",
   "metadata": {},
   "outputs": [],
   "source": []
  }
 ],
 "metadata": {
  "kernelspec": {
   "display_name": "Python 3 (ipykernel)",
   "language": "python",
   "name": "python3"
  },
  "language_info": {
   "codemirror_mode": {
    "name": "ipython",
    "version": 3
   },
   "file_extension": ".py",
   "mimetype": "text/x-python",
   "name": "python",
   "nbconvert_exporter": "python",
   "pygments_lexer": "ipython3",
   "version": "3.10.6"
  }
 },
 "nbformat": 4,
 "nbformat_minor": 5
}
